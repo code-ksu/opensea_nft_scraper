{
 "cells": [
  {
   "cell_type": "code",
   "execution_count": 24,
   "id": "aea4712a",
   "metadata": {},
   "outputs": [
    {
     "name": "stdout",
     "output_type": "stream",
     "text": [
      "dict_keys(['id', 'token_id', 'num_sales', 'background_color', 'image_url', 'image_preview_url', 'image_thumbnail_url', 'image_original_url', 'animation_url', 'animation_original_url', 'name', 'description', 'external_link', 'asset_contract', 'permalink', 'collection', 'decimals', 'token_metadata', 'owner', 'sell_orders', 'creator', 'traits', 'last_sale', 'top_bid', 'listing_date', 'is_presale', 'transfer_fee_payment_token', 'transfer_fee'])\n",
      "Mad Mike Monkey #005\n"
     ]
    }
   ],
   "source": [
    "import requests\n",
    "\n",
    "url = \"https://api.opensea.io/api/v1/assets\"\n",
    "querystring = {\"order_direction\":\"desc\",\"offset\":\"0\",\"limit\":\"20\"}\n",
    "response = requests.request(\"GET\", url, params=querystring)\n",
    "\n",
    "assets = response.json()['assets']\n",
    "\n",
    "print(assets[0].keys())\n",
    "\n",
    "print(assets[4]['name'])"
   ]
  }
 ],
 "metadata": {
  "kernelspec": {
   "display_name": "Python 3",
   "language": "python",
   "name": "python3"
  },
  "language_info": {
   "codemirror_mode": {
    "name": "ipython",
    "version": 3
   },
   "file_extension": ".py",
   "mimetype": "text/x-python",
   "name": "python",
   "nbconvert_exporter": "python",
   "pygments_lexer": "ipython3",
   "version": "3.8.10"
  }
 },
 "nbformat": 4,
 "nbformat_minor": 5
}
